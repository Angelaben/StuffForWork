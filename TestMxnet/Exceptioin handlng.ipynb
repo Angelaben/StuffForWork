{
 "cells": [
  {
   "cell_type": "markdown",
   "metadata": {},
   "source": [
    "Reference hhttps://mxnet.apache.org/api/architecture/exception_handling"
   ]
  },
  {
   "cell_type": "code",
   "execution_count": 5,
   "metadata": {},
   "outputs": [],
   "source": [
    "import sys\n",
    "sys.path.append(\"/workspace/server\")\n",
    "import warnings\n",
    "\n",
    "from thera.python.mxnet import mxnet as mx\n",
    "warnings.filterwarnings('ignore')\n",
    "import os \n",
    "import random\n",
    "import numpy as np\n",
    "import mxnet as mx\n",
    "from mxnet import gluon\n",
    "import gluonnlp as nlp\n",
    "# https://gluon-nlp.mxnet.io/master/examples/word_embedding/word_embedding.html\n",
    "import re"
   ]
  },
  {
   "cell_type": "markdown",
   "metadata": {},
   "source": [
    "# The below example shows how to handle exceptions for iterators. In this example, we populate files for data and labels with fewer number of labels compared to the number of samples. This should throw an exception.\n",
    "\n",
    "CSVIter uses PrefetcherIter for loading and parsing data. The PrefetcherIter spawns a producer thread in the background which prefetches the data while the main thread consumes the data. The exception is thrown in the spawned producer thread during the prefetching, when the label is not found corresponding to a specific sample.\n",
    "\n",
    "The exception is transported to the main thread, where it is rethrown when Next is called as part of the following line: for batch in iter(data_train).\n",
    "\n",
    "In general, Exception may be rethrown as part of Next and BeforeFirst calls which correspond to reset() and next() methods in MXDataIter for Python language bindings."
   ]
  },
  {
   "cell_type": "code",
   "execution_count": 11,
   "metadata": {},
   "outputs": [
    {
     "name": "stdout",
     "output_type": "stream",
     "text": [
      "Exception handled\n",
      "[15:42:15] /workspace/server/third_party/mxnet/src/io/iter_csv.cc:137: Check failed: label_parser_->Next() Data CSV's row is smaller than the number of rows in label_csv\n",
      "\n",
      "Stack trace returned 9 entries:\n",
      "[bt] (0) /workspace/server/third_party/mxnet/python/mxnet/../../build/libmxnet.so(dmlc::StackTrace[abi:cxx11]()+0x5b) [0x7f5da81ccc5b]\n",
      "[bt] (1) /workspace/server/third_party/mxnet/python/mxnet/../../build/libmxnet.so(dmlc::LogMessageFatal::~LogMessageFatal()+0x28) [0x7f5da81cd428]\n",
      "[bt] (2) /workspace/server/third_party/mxnet/python/mxnet/../../build/libmxnet.so(mxnet::io::CSVIterTyped<float>::Next()+0x2b5) [0x7f5da8481f65]\n",
      "[bt] (3) /workspace/server/third_party/mxnet/python/mxnet/../../build/libmxnet.so(mxnet::io::BatchLoader::Next()+0x90) [0x7f5da847e830]\n",
      "[bt] (4) /workspace/server/third_party/mxnet/python/mxnet/../../build/libmxnet.so(mxnet::io::PrefetcherIter::Init(std::vector<std::pair<std::__cxx11::basic_string<char, std::char_traits<char>, std::allocator<char> >, std::__cxx11::basic_string<char, std::char_traits<char>, std::allocator<char> > >, std::allocator<std::pair<std::__cxx11::basic_string<char, std::char_traits<char>, std::allocator<char> >, std::__cxx11::basic_string<char, std::char_traits<char>, std::allocator<char> > > > > const&)::{lambda(mxnet::DataBatch**)#1}::operator()(mxnet::DataBatch**) const+0x3c) [0x7f5da847938c]\n",
      "[bt] (5) /workspace/server/third_party/mxnet/python/mxnet/../../build/libmxnet.so(dmlc::ThreadedIter<mxnet::DataBatch>::Init(std::function<bool (mxnet::DataBatch**)>, std::function<void ()>)::{lambda()#1}::operator()() const+0x202) [0x7f5da84778a2]\n",
      "[bt] (6) /usr/lib/x86_64-linux-gnu/libstdc++.so.6(+0xb8c80) [0x7f5e10603c80]\n",
      "[bt] (7) /lib/x86_64-linux-gnu/libpthread.so.0(+0x76ba) [0x7f5e15d0f6ba]\n",
      "[bt] (8) /lib/x86_64-linux-gnu/libc.so.6(clone+0x6d) [0x7f5e15a4541d]\n",
      "\n",
      "\n"
     ]
    }
   ],
   "source": [
    "cwd = os.getcwd()\n",
    "data_path = os.path.join(cwd, \"data.csv\")\n",
    "label_path = os.path.join(cwd, \"label.csv\")\n",
    "\n",
    "with open(data_path, \"w\") as fout:\n",
    "    for i in range(8):\n",
    "        fout.write(\"1,2,3,4,5,6,7,8,9,10\\n\")\n",
    "\n",
    "with open(label_path, \"w\") as fout:\n",
    "    for i in range(7):\n",
    "        fout.write(\"label\"+str(i))\n",
    "\n",
    "try:\n",
    "    data_train = mx.io.CSVIter(data_csv=data_path, label_csv=label_path, data_shape=(1, 10),\n",
    "                               batch_size=4)\n",
    "\n",
    "    for batch in iter(data_train):\n",
    "        print(data_train.getdata().asnumpy())\n",
    "except mx.base.MXNetError as ex:\n",
    "    print(\"Exception handled\")\n",
    "    print(ex)"
   ]
  },
  {
   "cell_type": "markdown",
   "metadata": {},
   "source": [
    "Exception Handling for Operators\n",
    "\n",
    "The below example shows how to handle exceptions for operators in the imperative mode.\n",
    "\n",
    "For the operator case, the dependency engine spawns a number of threads if it is running in the ThreadedEnginePool or ThreadedEnginePerDevice mode. The final operator is executed in one of the spawned threads.\n",
    "\n",
    "If an operator throws an exception during execution, this exception is propagated down the dependency chain. Once there is a synchronizing call i.e. WaitToRead for a variable in the dependency chain, the propagated exception is rethrown.\n",
    "\n",
    "In the below example, I illustrate how an exception that occured in the first line is propagated down the dependency chain, and finally is rethrown when we make a synchronizing call to WaitToRead."
   ]
  },
  {
   "cell_type": "code",
   "execution_count": 12,
   "metadata": {},
   "outputs": [
    {
     "ename": "MXNetError",
     "evalue": "[15:42:50] /workspace/server/third_party/mxnet/src/operator/random/./sample_op.h:400: Check failed: param.scale > 0 (-1 vs. 0) scale parameter in gaussian has to be positive\n\nStack trace returned 10 entries:\n[bt] (0) /workspace/server/third_party/mxnet/python/mxnet/../../build/libmxnet.so(dmlc::StackTrace[abi:cxx11]()+0x5b) [0x7f5da81ccc5b]\n[bt] (1) /workspace/server/third_party/mxnet/python/mxnet/../../build/libmxnet.so(dmlc::LogMessageFatal::~LogMessageFatal()+0x28) [0x7f5da81cd428]\n[bt] (2) /workspace/server/third_party/mxnet/python/mxnet/../../build/libmxnet.so(+0x163bab0) [0x7f5da8abbab0]\n[bt] (3) /workspace/server/third_party/mxnet/python/mxnet/../../build/libmxnet.so(void mxnet::op::Sample_<mshadow::cpu, mxnet::op::SampleNormalParam>(nnvm::NodeAttrs const&, mxnet::OpContext const&, std::vector<mxnet::TBlob, std::allocator<mxnet::TBlob> > const&, std::vector<mxnet::OpReqType, std::allocator<mxnet::OpReqType> > const&, std::vector<mxnet::TBlob, std::allocator<mxnet::TBlob> > const&)+0x86) [0x7f5da8adb156]\n[bt] (4) /workspace/server/third_party/mxnet/python/mxnet/../../build/libmxnet.so(mxnet::imperative::PushFCompute(std::function<void (nnvm::NodeAttrs const&, mxnet::OpContext const&, std::vector<mxnet::TBlob, std::allocator<mxnet::TBlob> > const&, std::vector<mxnet::OpReqType, std::allocator<mxnet::OpReqType> > const&, std::vector<mxnet::TBlob, std::allocator<mxnet::TBlob> > const&)> const&, nnvm::Op const*, nnvm::NodeAttrs const&, mxnet::Context const&, std::vector<mxnet::engine::Var*, std::allocator<mxnet::engine::Var*> > const&, std::vector<mxnet::engine::Var*, std::allocator<mxnet::engine::Var*> > const&, std::vector<mxnet::Resource, std::allocator<mxnet::Resource> > const&, std::vector<mxnet::NDArray*, std::allocator<mxnet::NDArray*> > const&, std::vector<mxnet::NDArray*, std::allocator<mxnet::NDArray*> > const&, std::vector<unsigned int, std::allocator<unsigned int> > const&, std::vector<mxnet::OpReqType, std::allocator<mxnet::OpReqType> > const&)::{lambda(mxnet::RunContext)#1}::operator()(mxnet::RunContext) const+0x290) [0x7f5da821c220]\n[bt] (5) /workspace/server/third_party/mxnet/python/mxnet/../../build/libmxnet.so(+0xd5cd4b) [0x7f5da81dcd4b]\n[bt] (6) /workspace/server/third_party/mxnet/python/mxnet/../../build/libmxnet.so(mxnet::engine::ThreadedEngine::ExecuteOprBlock(mxnet::RunContext, mxnet::engine::OprBlock*)+0x429) [0x7f5da81d1bc9]\n[bt] (7) /workspace/server/third_party/mxnet/python/mxnet/../../build/libmxnet.so(std::_Function_handler<void (std::shared_ptr<dmlc::ManualEvent>), mxnet::engine::ThreadedEnginePerDevice::PushToExecute(mxnet::engine::OprBlock*, bool)::{lambda()#1}::operator()() const::{lambda(std::shared_ptr<dmlc::ManualEvent>)#1}>::_M_invoke(std::_Any_data const&, std::shared_ptr<dmlc::ManualEvent>&&)+0xe2) [0x7f5da81d5e32]\n[bt] (8) /workspace/server/third_party/mxnet/python/mxnet/../../build/libmxnet.so(std::thread::_Impl<std::_Bind_simple<std::function<void (std::shared_ptr<dmlc::ManualEvent>)> (std::shared_ptr<dmlc::ManualEvent>)> >::_M_run()+0x4a) [0x7f5da81d214a]\n[bt] (9) /usr/lib/x86_64-linux-gnu/libstdc++.so.6(+0xb8c80) [0x7f5e10603c80]\n\n",
     "output_type": "error",
     "traceback": [
      "\u001b[0;31m---------------------------------------------------------------------------\u001b[0m",
      "\u001b[0;31mMXNetError\u001b[0m                                Traceback (most recent call last)",
      "\u001b[0;32m<ipython-input-12-7dfb879eee04>\u001b[0m in \u001b[0;36m<module>\u001b[0;34m\u001b[0m\n\u001b[1;32m      4\u001b[0m \u001b[0md\u001b[0m \u001b[0;34m=\u001b[0m \u001b[0mmx\u001b[0m\u001b[0;34m.\u001b[0m\u001b[0mnd\u001b[0m\u001b[0;34m.\u001b[0m\u001b[0mrandom\u001b[0m\u001b[0;34m.\u001b[0m\u001b[0mnormal\u001b[0m\u001b[0;34m(\u001b[0m\u001b[0;36m0\u001b[0m\u001b[0;34m,\u001b[0m \u001b[0;34m-\u001b[0m\u001b[0;36m1\u001b[0m\u001b[0;34m,\u001b[0m \u001b[0;34m(\u001b[0m\u001b[0;36m2\u001b[0m\u001b[0;34m,\u001b[0m \u001b[0;36m2\u001b[0m\u001b[0;34m)\u001b[0m\u001b[0;34m)\u001b[0m\u001b[0;34m\u001b[0m\u001b[0m\n\u001b[1;32m      5\u001b[0m \u001b[0me\u001b[0m \u001b[0;34m=\u001b[0m \u001b[0mmx\u001b[0m\u001b[0;34m.\u001b[0m\u001b[0mnd\u001b[0m\u001b[0;34m.\u001b[0m\u001b[0mdot\u001b[0m\u001b[0;34m(\u001b[0m\u001b[0mc\u001b[0m\u001b[0;34m,\u001b[0m \u001b[0md\u001b[0m\u001b[0;34m)\u001b[0m\u001b[0;34m\u001b[0m\u001b[0m\n\u001b[0;32m----> 6\u001b[0;31m \u001b[0me\u001b[0m\u001b[0;34m.\u001b[0m\u001b[0mwait_to_read\u001b[0m\u001b[0;34m(\u001b[0m\u001b[0;34m)\u001b[0m\u001b[0;34m\u001b[0m\u001b[0m\n\u001b[0m",
      "\u001b[0;32m/workspace/server/thera/python/../../third_party/mxnet/python/mxnet/ndarray/ndarray.py\u001b[0m in \u001b[0;36mwait_to_read\u001b[0;34m(self)\u001b[0m\n\u001b[1;32m   1804\u001b[0m         \u001b[0;36m0.0893700122833252\u001b[0m\u001b[0;34m\u001b[0m\u001b[0m\n\u001b[1;32m   1805\u001b[0m         \"\"\"\n\u001b[0;32m-> 1806\u001b[0;31m         \u001b[0mcheck_call\u001b[0m\u001b[0;34m(\u001b[0m\u001b[0m_LIB\u001b[0m\u001b[0;34m.\u001b[0m\u001b[0mMXNDArrayWaitToRead\u001b[0m\u001b[0;34m(\u001b[0m\u001b[0mself\u001b[0m\u001b[0;34m.\u001b[0m\u001b[0mhandle\u001b[0m\u001b[0;34m)\u001b[0m\u001b[0;34m)\u001b[0m\u001b[0;34m\u001b[0m\u001b[0m\n\u001b[0m\u001b[1;32m   1807\u001b[0m \u001b[0;34m\u001b[0m\u001b[0m\n\u001b[1;32m   1808\u001b[0m     \u001b[0;34m@\u001b[0m\u001b[0mproperty\u001b[0m\u001b[0;34m\u001b[0m\u001b[0m\n",
      "\u001b[0;32m/workspace/server/thera/python/../../third_party/mxnet/python/mxnet/base.py\u001b[0m in \u001b[0;36mcheck_call\u001b[0;34m(ret)\u001b[0m\n\u001b[1;32m    250\u001b[0m     \"\"\"\n\u001b[1;32m    251\u001b[0m     \u001b[0;32mif\u001b[0m \u001b[0mret\u001b[0m \u001b[0;34m!=\u001b[0m \u001b[0;36m0\u001b[0m\u001b[0;34m:\u001b[0m\u001b[0;34m\u001b[0m\u001b[0m\n\u001b[0;32m--> 252\u001b[0;31m         \u001b[0;32mraise\u001b[0m \u001b[0mMXNetError\u001b[0m\u001b[0;34m(\u001b[0m\u001b[0mpy_str\u001b[0m\u001b[0;34m(\u001b[0m\u001b[0m_LIB\u001b[0m\u001b[0;34m.\u001b[0m\u001b[0mMXGetLastError\u001b[0m\u001b[0;34m(\u001b[0m\u001b[0;34m)\u001b[0m\u001b[0;34m)\u001b[0m\u001b[0;34m)\u001b[0m\u001b[0;34m\u001b[0m\u001b[0m\n\u001b[0m\u001b[1;32m    253\u001b[0m \u001b[0;34m\u001b[0m\u001b[0m\n\u001b[1;32m    254\u001b[0m \u001b[0;34m\u001b[0m\u001b[0m\n",
      "\u001b[0;31mMXNetError\u001b[0m: [15:42:50] /workspace/server/third_party/mxnet/src/operator/random/./sample_op.h:400: Check failed: param.scale > 0 (-1 vs. 0) scale parameter in gaussian has to be positive\n\nStack trace returned 10 entries:\n[bt] (0) /workspace/server/third_party/mxnet/python/mxnet/../../build/libmxnet.so(dmlc::StackTrace[abi:cxx11]()+0x5b) [0x7f5da81ccc5b]\n[bt] (1) /workspace/server/third_party/mxnet/python/mxnet/../../build/libmxnet.so(dmlc::LogMessageFatal::~LogMessageFatal()+0x28) [0x7f5da81cd428]\n[bt] (2) /workspace/server/third_party/mxnet/python/mxnet/../../build/libmxnet.so(+0x163bab0) [0x7f5da8abbab0]\n[bt] (3) /workspace/server/third_party/mxnet/python/mxnet/../../build/libmxnet.so(void mxnet::op::Sample_<mshadow::cpu, mxnet::op::SampleNormalParam>(nnvm::NodeAttrs const&, mxnet::OpContext const&, std::vector<mxnet::TBlob, std::allocator<mxnet::TBlob> > const&, std::vector<mxnet::OpReqType, std::allocator<mxnet::OpReqType> > const&, std::vector<mxnet::TBlob, std::allocator<mxnet::TBlob> > const&)+0x86) [0x7f5da8adb156]\n[bt] (4) /workspace/server/third_party/mxnet/python/mxnet/../../build/libmxnet.so(mxnet::imperative::PushFCompute(std::function<void (nnvm::NodeAttrs const&, mxnet::OpContext const&, std::vector<mxnet::TBlob, std::allocator<mxnet::TBlob> > const&, std::vector<mxnet::OpReqType, std::allocator<mxnet::OpReqType> > const&, std::vector<mxnet::TBlob, std::allocator<mxnet::TBlob> > const&)> const&, nnvm::Op const*, nnvm::NodeAttrs const&, mxnet::Context const&, std::vector<mxnet::engine::Var*, std::allocator<mxnet::engine::Var*> > const&, std::vector<mxnet::engine::Var*, std::allocator<mxnet::engine::Var*> > const&, std::vector<mxnet::Resource, std::allocator<mxnet::Resource> > const&, std::vector<mxnet::NDArray*, std::allocator<mxnet::NDArray*> > const&, std::vector<mxnet::NDArray*, std::allocator<mxnet::NDArray*> > const&, std::vector<unsigned int, std::allocator<unsigned int> > const&, std::vector<mxnet::OpReqType, std::allocator<mxnet::OpReqType> > const&)::{lambda(mxnet::RunContext)#1}::operator()(mxnet::RunContext) const+0x290) [0x7f5da821c220]\n[bt] (5) /workspace/server/third_party/mxnet/python/mxnet/../../build/libmxnet.so(+0xd5cd4b) [0x7f5da81dcd4b]\n[bt] (6) /workspace/server/third_party/mxnet/python/mxnet/../../build/libmxnet.so(mxnet::engine::ThreadedEngine::ExecuteOprBlock(mxnet::RunContext, mxnet::engine::OprBlock*)+0x429) [0x7f5da81d1bc9]\n[bt] (7) /workspace/server/third_party/mxnet/python/mxnet/../../build/libmxnet.so(std::_Function_handler<void (std::shared_ptr<dmlc::ManualEvent>), mxnet::engine::ThreadedEnginePerDevice::PushToExecute(mxnet::engine::OprBlock*, bool)::{lambda()#1}::operator()() const::{lambda(std::shared_ptr<dmlc::ManualEvent>)#1}>::_M_invoke(std::_Any_data const&, std::shared_ptr<dmlc::ManualEvent>&&)+0xe2) [0x7f5da81d5e32]\n[bt] (8) /workspace/server/third_party/mxnet/python/mxnet/../../build/libmxnet.so(std::thread::_Impl<std::_Bind_simple<std::function<void (std::shared_ptr<dmlc::ManualEvent>)> (std::shared_ptr<dmlc::ManualEvent>)> >::_M_run()+0x4a) [0x7f5da81d214a]\n[bt] (9) /usr/lib/x86_64-linux-gnu/libstdc++.so.6(+0xb8c80) [0x7f5e10603c80]\n\n"
     ]
    }
   ],
   "source": [
    "a = mx.nd.random.normal(0, 1, (2, 2))\n",
    "b = mx.nd.random.normal(0, 2, (2, 2))\n",
    "c = mx.nd.dot(a, b)\n",
    "d = mx.nd.random.normal(0, -1, (2, 2)) # Standard deviation of the distribution. cant be -1\n",
    "e = mx.nd.dot(c, d)\n",
    "e.wait_to_read()"
   ]
  },
  {
   "cell_type": "markdown",
   "metadata": {},
   "source": [
    "Although the above exception occurs when executing the operation which writes to the variable d in one of the child threads, it is thrown only when the synchronization happens as part of the line: e.wait_to_read().\n",
    "\n",
    "Let us take another example. In the following case, we write to two variables and then wait_to_read for both. This example shows that any particular exception will not be thrown more than once."
   ]
  },
  {
   "cell_type": "code",
   "execution_count": 14,
   "metadata": {},
   "outputs": [
    {
     "name": "stdout",
     "output_type": "stream",
     "text": [
      "Exception handled\n",
      "[15:44:46] /workspace/server/third_party/mxnet/src/operator/random/./sample_op.h:400: Check failed: param.scale > 0 (-1 vs. 0) scale parameter in gaussian has to be positive\n",
      "\n",
      "Stack trace returned 10 entries:\n",
      "[bt] (0) /workspace/server/third_party/mxnet/python/mxnet/../../build/libmxnet.so(dmlc::StackTrace[abi:cxx11]()+0x5b) [0x7f5da81ccc5b]\n",
      "[bt] (1) /workspace/server/third_party/mxnet/python/mxnet/../../build/libmxnet.so(dmlc::LogMessageFatal::~LogMessageFatal()+0x28) [0x7f5da81cd428]\n",
      "[bt] (2) /workspace/server/third_party/mxnet/python/mxnet/../../build/libmxnet.so(+0x163bab0) [0x7f5da8abbab0]\n",
      "[bt] (3) /workspace/server/third_party/mxnet/python/mxnet/../../build/libmxnet.so(void mxnet::op::Sample_<mshadow::cpu, mxnet::op::SampleNormalParam>(nnvm::NodeAttrs const&, mxnet::OpContext const&, std::vector<mxnet::TBlob, std::allocator<mxnet::TBlob> > const&, std::vector<mxnet::OpReqType, std::allocator<mxnet::OpReqType> > const&, std::vector<mxnet::TBlob, std::allocator<mxnet::TBlob> > const&)+0x86) [0x7f5da8adb156]\n",
      "[bt] (4) /workspace/server/third_party/mxnet/python/mxnet/../../build/libmxnet.so(mxnet::imperative::PushFCompute(std::function<void (nnvm::NodeAttrs const&, mxnet::OpContext const&, std::vector<mxnet::TBlob, std::allocator<mxnet::TBlob> > const&, std::vector<mxnet::OpReqType, std::allocator<mxnet::OpReqType> > const&, std::vector<mxnet::TBlob, std::allocator<mxnet::TBlob> > const&)> const&, nnvm::Op const*, nnvm::NodeAttrs const&, mxnet::Context const&, std::vector<mxnet::engine::Var*, std::allocator<mxnet::engine::Var*> > const&, std::vector<mxnet::engine::Var*, std::allocator<mxnet::engine::Var*> > const&, std::vector<mxnet::Resource, std::allocator<mxnet::Resource> > const&, std::vector<mxnet::NDArray*, std::allocator<mxnet::NDArray*> > const&, std::vector<mxnet::NDArray*, std::allocator<mxnet::NDArray*> > const&, std::vector<unsigned int, std::allocator<unsigned int> > const&, std::vector<mxnet::OpReqType, std::allocator<mxnet::OpReqType> > const&)::{lambda(mxnet::RunContext)#1}::operator()(mxnet::RunContext) const+0x290) [0x7f5da821c220]\n",
      "[bt] (5) /workspace/server/third_party/mxnet/python/mxnet/../../build/libmxnet.so(+0xd5cd4b) [0x7f5da81dcd4b]\n",
      "[bt] (6) /workspace/server/third_party/mxnet/python/mxnet/../../build/libmxnet.so(mxnet::engine::ThreadedEngine::ExecuteOprBlock(mxnet::RunContext, mxnet::engine::OprBlock*)+0x429) [0x7f5da81d1bc9]\n",
      "[bt] (7) /workspace/server/third_party/mxnet/python/mxnet/../../build/libmxnet.so(std::_Function_handler<void (std::shared_ptr<dmlc::ManualEvent>), mxnet::engine::ThreadedEnginePerDevice::PushToExecute(mxnet::engine::OprBlock*, bool)::{lambda()#1}::operator()() const::{lambda(std::shared_ptr<dmlc::ManualEvent>)#1}>::_M_invoke(std::_Any_data const&, std::shared_ptr<dmlc::ManualEvent>&&)+0xe2) [0x7f5da81d5e32]\n",
      "[bt] (8) /workspace/server/third_party/mxnet/python/mxnet/../../build/libmxnet.so(std::thread::_Impl<std::_Bind_simple<std::function<void (std::shared_ptr<dmlc::ManualEvent>)> (std::shared_ptr<dmlc::ManualEvent>)> >::_M_run()+0x4a) [0x7f5da81d214a]\n",
      "[bt] (9) /usr/lib/x86_64-linux-gnu/libstdc++.so.6(+0xb8c80) [0x7f5e10603c80]\n",
      "\n",
      "\n"
     ]
    },
    {
     "data": {
      "text/plain": [
       "array([1.9254046e-35, 0.0000000e+00], dtype=float32)"
      ]
     },
     "execution_count": 14,
     "metadata": {},
     "output_type": "execute_result"
    }
   ],
   "source": [
    "a = mx.nd.random.normal(0, 1, (2, 2))\n",
    "b = mx.nd.random.normal(0, -1, (2, 2))\n",
    "c, d  = mx.nd.dot(a, b)\n",
    "try:\n",
    "    c.asnumpy()\n",
    "except mx.base.MXNetError as ex:\n",
    "    print(\"Exception handled\")\n",
    "    print(ex)\n",
    "d.asnumpy()"
   ]
  },
  {
   "cell_type": "code",
   "execution_count": null,
   "metadata": {},
   "outputs": [],
   "source": []
  }
 ],
 "metadata": {
  "kernelspec": {
   "display_name": "Python 3",
   "language": "python",
   "name": "python3"
  },
  "language_info": {
   "codemirror_mode": {
    "name": "ipython",
    "version": 3
   },
   "file_extension": ".py",
   "mimetype": "text/x-python",
   "name": "python",
   "nbconvert_exporter": "python",
   "pygments_lexer": "ipython3",
   "version": "3.5.2"
  }
 },
 "nbformat": 4,
 "nbformat_minor": 2
}
